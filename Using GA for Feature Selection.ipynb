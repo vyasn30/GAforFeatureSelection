{
 "cells": [
  {
   "cell_type": "markdown",
   "id": "remarkable-tours",
   "metadata": {},
   "source": [
    "## Genetic Algorithm for Feature Selection\n",
    "\n",
    "Dataset = https://www.kaggle.com/andrewmvd/heart-failure-clinical-data\n"
   ]
  },
  {
   "cell_type": "markdown",
   "id": "faced-ensemble",
   "metadata": {},
   "source": [
    "Lets do some eda first"
   ]
  },
  {
   "cell_type": "code",
   "execution_count": 7,
   "id": "completed-bracket",
   "metadata": {},
   "outputs": [],
   "source": [
    "import pandas as pd\n",
    "from sklearn.model_selection import train_test_split\n",
    "from sklearn.preprocessing import MinMaxScaler\n",
    "import numpy as np\n",
    "from sklearn.ensemble import RandomForestClassifier\n",
    "from sklearn.model_selection import RepeatedStratifiedKFold\n",
    "from genetic_selection import GeneticSelectionCV\n",
    "from featureFinder import find\n",
    "from sklearn.model_selection import cross_val_score\n",
    "\n",
    "import matplotlib.pyplot as plt\n",
    "import seaborn as sns\n",
    "from sklearn import tree\n",
    "from sklearn.metrics import accuracy_score\n",
    "import numpy as np\n",
    "from feature_selection_ga import FeatureSelectionGA, FitnessFunction\n",
    "import pickle\n",
    "import math\n",
    "import random\n",
    "from sklearn.ensemble import RandomForestClassifier\n",
    "from sklearn.linear_model import LinearRegression\n",
    "from sklearn import linear_model"
   ]
  },
  {
   "cell_type": "code",
   "execution_count": 3,
   "id": "hybrid-beast",
   "metadata": {},
   "outputs": [
    {
     "data": {
      "text/plain": [
       "['age',\n",
       " 'anaemia',\n",
       " 'creatinine_phosphokinase',\n",
       " 'diabetes',\n",
       " 'ejection_fraction',\n",
       " 'high_blood_pressure',\n",
       " 'platelets',\n",
       " 'serum_creatinine',\n",
       " 'serum_sodium',\n",
       " 'sex',\n",
       " 'smoking',\n",
       " 'time',\n",
       " 'DEATH_EVENT']"
      ]
     },
     "execution_count": 3,
     "metadata": {},
     "output_type": "execute_result"
    }
   ],
   "source": [
    "\n",
    "df = pd.read_csv(\"data/heart_failure_clinical_records_dataset.csv\")\n",
    "total_feats = list(df.columns)\n",
    "\n",
    "\n",
    "total_feats"
   ]
  },
  {
   "cell_type": "markdown",
   "id": "electrical-salon",
   "metadata": {},
   "source": [
    "So these are our total features, what we need now is to find out the features are most important for predictions. \n",
    "\n",
    "The \"DEATH_EVENT\" feature here is our target variable. "
   ]
  },
  {
   "cell_type": "code",
   "execution_count": 4,
   "id": "breathing-estate",
   "metadata": {},
   "outputs": [],
   "source": [
    "total_feats = total_feats[:-1]\n",
    "target = df.columns[-1]\n",
    "\n",
    "catcols = [\"anaemia\", \"diabetes\", \"high_blood_pressure\", \"sex\", \"smoking\"]\n",
    "# for c in catcols:\n",
    "#   D[c] = D[c].astype(\"category\")\n",
    "numcols = set(total_feats) - set(catcols)\n",
    "numcols = list(numcols)"
   ]
  },
  {
   "cell_type": "markdown",
   "id": "german-stomach",
   "metadata": {},
   "source": [
    "Out of all \"total_feats\", there are several numerical features(numcols) and several categorical features(catcols). Now we will apply Min Max Scaling on the numerical features to make it standardised"
   ]
  },
  {
   "cell_type": "code",
   "execution_count": 6,
   "id": "velvet-collection",
   "metadata": {},
   "outputs": [
    {
     "name": "stdout",
     "output_type": "stream",
     "text": [
      "        age  anaemia  creatinine_phosphokinase  diabetes  ejection_fraction  \\\n",
      "0  0.636364        0                  0.071319         0           0.090909   \n",
      "1  0.272727        0                  1.000000         0           0.363636   \n",
      "2  0.454545        0                  0.015693         0           0.090909   \n",
      "3  0.181818        1                  0.011227         0           0.090909   \n",
      "4  0.454545        1                  0.017479         1           0.090909   \n",
      "\n",
      "   high_blood_pressure  platelets  serum_creatinine  serum_sodium  sex  \\\n",
      "0                    1   0.290823          0.157303      0.485714    1   \n",
      "1                    0   0.288833          0.067416      0.657143    1   \n",
      "2                    0   0.165960          0.089888      0.457143    1   \n",
      "3                    0   0.224148          0.157303      0.685714    1   \n",
      "4                    0   0.365984          0.247191      0.085714    0   \n",
      "\n",
      "   smoking      time  DEATH_EVENT  \n",
      "0        0  0.000000            1  \n",
      "1        0  0.007117            1  \n",
      "2        1  0.010676            1  \n",
      "3        0  0.010676            1  \n",
      "4        0  0.014235            1  \n"
     ]
    }
   ],
   "source": [
    "for col in numcols: \n",
    "  scaler = MinMaxScaler()\n",
    "  df[col] = scaler.fit_transform(df[col].values.reshape(-1,1))\n",
    "    \n",
    "print(df.head())"
   ]
  },
  {
   "cell_type": "markdown",
   "id": "polished-cemetery",
   "metadata": {},
   "source": [
    "### Now we will be trying to find the best features for the model to work on by using Genetic Algorithm."
   ]
  },
  {
   "cell_type": "code",
   "execution_count": 8,
   "id": "gothic-location",
   "metadata": {},
   "outputs": [],
   "source": [
    "#set seed for being able to reproduce same random numbers\n",
    "\n",
    "SEED = 6969\n",
    "random.seed(SEED)\n",
    "np.random.seed(SEED)\n",
    "\n",
    "class GeneticSelector():\n",
    "    def __init__(self,X, y, estimator, n_gen, size, n_best, n_rand, \n",
    "                 n_children, mutation_rate):\n",
    "        # Estimator\n",
    "        self.estimator = estimator\n",
    "        # Number of generations\n",
    "        self.n_gen = n_gen\n",
    "        # Number of chromosomes in population\n",
    "        self.size = size\n",
    "        # Number of best chromosomes to select\n",
    "        self.n_best = n_best\n",
    "        # Number of random chromosomes to select\n",
    "        self.n_rand = n_rand\n",
    "        # Number of children created during crossover\n",
    "        self.n_children = n_children\n",
    "        # Probablity of chromosome mutation\n",
    "        self.mutation_rate = mutation_rate\n",
    "        #Train Set\n",
    "        self.X = X\n",
    "        #Lab\n",
    "        self.y = y\n",
    "        \n",
    "        if int((self.n_best + self.n_rand) / 2) * self.n_children != self.size:\n",
    "            raise ValueError(\"The population size is not stable.\")  \n",
    "            \n",
    "    def initilize(self):\n",
    "        population = []\n",
    "        for i in range(self.size):\n",
    "            chromosome = np.ones(self.n_features, dtype=np.bool)\n",
    "            mask = np.random.rand(len(chromosome)) < 0.3\n",
    "            chromosome[mask] = False\n",
    "            population.append(chromosome)\n",
    "        return population\n",
    "\n",
    "    def fitness(self, population):\n",
    "        X, y = self.dataset\n",
    "        scores = []\n",
    "        for chromosome in population:\n",
    "\n",
    "            score = -1.0 * np.mean(cross_val_score(self.estimator, X[:,chromosome], y, \n",
    "                                                       cv=5, \n",
    "                                                       scoring=\"neg_mean_squared_error\"))\n",
    "            scores.append(score)\n",
    "        scores, population = np.array(scores), np.array(population) \n",
    "        inds = np.argsort(scores)\n",
    "        return list(scores[inds]), list(population[inds,:])\n",
    "\n",
    "    def select(self, population_sorted):\n",
    "        population_next = []\n",
    "        for i in range(self.n_best):\n",
    "            population_next.append(population_sorted[i])\n",
    "        for i in range(self.n_rand):\n",
    "            population_next.append(random.choice(population_sorted))\n",
    "        random.shuffle(population_next)\n",
    "        return population_next\n",
    "\n",
    "    def crossover(self, population):\n",
    "        population_next = []\n",
    "        for i in range(int(len(population)/2)):\n",
    "            for j in range(self.n_children):\n",
    "                chromosome1, chromosome2 = population[i], population[len(population)-1-i]\n",
    "                child = chromosome1\n",
    "                mask = np.random.rand(len(child)) > 0.5\n",
    "                child[mask] = chromosome2[mask]\n",
    "                population_next.append(child)\n",
    "        return population_next\n",
    "\t\n",
    "    def mutate(self, population):\n",
    "        population_next = []\n",
    "        for i in range(len(population)):\n",
    "            chromosome = population[i]\n",
    "            if random.random() < self.mutation_rate:\n",
    "                mask = np.random.rand(len(chromosome)) < 0.05\n",
    "                chromosome[mask] = False\n",
    "            population_next.append(chromosome)\n",
    "        return population_next\n",
    "\n",
    "    def generate(self, population):\n",
    "        # Selection, crossover and mutation\n",
    "        scores_sorted, population_sorted = self.fitness(population)\n",
    "        population = self.select(population_sorted)\n",
    "        population = self.crossover(population)\n",
    "        population = self.mutate(population)\n",
    "        # History\n",
    "        self.chromosomes_best.append(population_sorted[0])\n",
    "        self.scores_best.append(scores_sorted[0])\n",
    "        self.scores_avg.append(np.mean(scores_sorted))\n",
    "\n",
    "        return population\n",
    "\n",
    "    def fit(self, X, y):\n",
    "        print(\"Fitting\")\n",
    "        self.chromosomes_best = []\n",
    "        self.scores_best, self.scores_avg  = [], []\n",
    "\n",
    "        self.dataset = X, y\n",
    "        self.n_features = X.shape[1]\n",
    "\n",
    "        population = self.initilize()\n",
    "        for i in range(self.n_gen):\n",
    "            population = self.generate(population)\n",
    "\n",
    "        return self \n",
    "\n",
    "    @property\n",
    "    def support_(self):\n",
    "        print(\"Best Chromosomes are::\")\n",
    "        print(self.chromosomes_best[-1])\n",
    "        return self.chromosomes_best[-1]\n",
    "\n",
    "    def plot_scores(self):\n",
    "        plt.plot(self.scores_best, label='Best')\n",
    "        plt.plot(self.scores_avg, label='Average')\n",
    "        plt.legend()\n",
    "        plt.ylabel('Scores')\n",
    "        plt.xlabel('Generation')\n",
    "        #plt.show()"
   ]
  },
  {
   "cell_type": "code",
   "execution_count": 9,
   "id": "grave-surface",
   "metadata": {},
   "outputs": [],
   "source": [
    "def find(df):\n",
    "\n",
    "    total_features = df.columns\n",
    "    total_features = df.columns[:-1]\n",
    "    X = df[total_features[:-1]] \n",
    "    y = df['DEATH_EVENT']\n",
    "\n",
    "    X_train, X_test, y_train, y_test = train_test_split(X,y, test_size=0.4)\n",
    "\n",
    "    X_train = X_train.values\n",
    "    y_train = y_train.values\n",
    "\n",
    "    sel =  GeneticSelector(X, y, estimator=LinearRegression(), \n",
    "                      n_gen=7, size=200, n_best=40, n_rand=40, \n",
    "                      n_children=5, mutation_rate=0.05)\n",
    "\n",
    "    sel.fit(X_train, y_train)\n",
    "    sel.plot_scores()\n",
    "    featurePrefs = sel.support_\n",
    "    \n",
    "    return featurePrefs"
   ]
  },
  {
   "cell_type": "markdown",
   "id": "induced-talent",
   "metadata": {},
   "source": [
    "Here the find() method returns mask for the features. Thus when we apply the masks to the total_features we will get the important features."
   ]
  },
  {
   "cell_type": "code",
   "execution_count": 10,
   "id": "heavy-payday",
   "metadata": {},
   "outputs": [
    {
     "name": "stdout",
     "output_type": "stream",
     "text": [
      "Fitting\n",
      "Best Chromosomes are::\n",
      "[ True False False False  True  True False  True  True False False]\n",
      "['age', 'ejection_fraction', 'high_blood_pressure', 'serum_creatinine', 'serum_sodium']\n",
      "0.7998084656084656\n"
     ]
    },
    {
     "data": {
      "image/png": "[encoded data removed]",
      "text/plain": [
       "<Figure size 432x288 with 1 Axes>"
      ]
     },
     "metadata": {
      "needs_background": "light"
     },
     "output_type": "display_data"
    }
   ],
   "source": [
    "prefs = find(df)\n",
    "\n",
    "new = []\n",
    "\n",
    "for i in range(prefs.shape[0]):\n",
    "    if prefs[i] == True:\n",
    "        new.append(total_feats[i])\n",
    "\n",
    "print(new)\n",
    "X = df[new]\n",
    "\n",
    "y = df[target]\n",
    "\n",
    "X_train, X_test, y_train, y_test = train_test_split(X, y, test_size=0.33, random_state= 46)\n",
    "\n",
    "clf = RandomForestClassifier(max_depth = 3)\n",
    "rskf = RepeatedStratifiedKFold(n_repeats = 10, n_splits = 10)\n",
    "X_prime = df[new]; y_prime = df.iloc[:,-1]\n",
    "print(np.mean(cross_val_score(clf, X_prime, y_prime, cv = rskf, scoring = \"roc_auc\")))"
   ]
  },
  {
   "cell_type": "code",
   "execution_count": null,
   "id": "governing-imaging",
   "metadata": {},
   "outputs": [],
   "source": []
  }
 ],
 "metadata": {
  "kernelspec": {
   "display_name": "Python 3",
   "language": "python",
   "name": "python3"
  },
  "language_info": {
   "codemirror_mode": {
    "name": "ipython",
    "version": 3
   },
   "file_extension": ".py",
   "mimetype": "text/x-python",
   "name": "python",
   "nbconvert_exporter": "python",
   "pygments_lexer": "ipython3",
   "version": "3.8.6"
  }
 },
 "nbformat": 4,
 "nbformat_minor": 5
}
